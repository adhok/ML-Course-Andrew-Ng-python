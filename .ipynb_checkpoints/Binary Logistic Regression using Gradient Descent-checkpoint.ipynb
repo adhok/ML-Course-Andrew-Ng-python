{
 "cells": [
  {
   "cell_type": "code",
   "execution_count": 1,
   "metadata": {
    "collapsed": true
   },
   "outputs": [],
   "source": [
    "import numpy as np\n",
    "import pandas as pd"
   ]
  },
  {
   "cell_type": "code",
   "execution_count": 2,
   "metadata": {
    "collapsed": true
   },
   "outputs": [],
   "source": [
    "\n",
    "m = X.shape[1]\n",
    "\n",
    "def sigmoid_fun(x):\n",
    "    \n",
    "    return 1/(1+exp(-x))\n",
    "\n",
    "# Cost function\n",
    "def cost_fn(theta,X,y):\n",
    "    \n",
    "    \n",
    "    h = sigmoid_fun(X.dot(theta))\n",
    "    \n",
    "    j = -1*y.transpose().dot(np.log(h))\n",
    "    j = j + (1-y).dot(np.log(1-h))\n",
    "    \n",
    "    \n",
    "    \n",
    "    \n",
    "    \n",
    "    \n",
    "    \n",
    "    \n",
    "    \n",
    "    "
   ]
  },
  {
   "cell_type": "code",
   "execution_count": null,
   "metadata": {
    "collapsed": true
   },
   "outputs": [],
   "source": []
  }
 ],
 "metadata": {
  "kernelspec": {
   "display_name": "Python 3",
   "language": "python",
   "name": "python3"
  },
  "language_info": {
   "codemirror_mode": {
    "name": "ipython",
    "version": 3
   },
   "file_extension": ".py",
   "mimetype": "text/x-python",
   "name": "python",
   "nbconvert_exporter": "python",
   "pygments_lexer": "ipython3",
   "version": "3.6.1"
  }
 },
 "nbformat": 4,
 "nbformat_minor": 2
}
