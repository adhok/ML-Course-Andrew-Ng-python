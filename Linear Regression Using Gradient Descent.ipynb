{
 "cells": [
  {
   "cell_type": "code",
   "execution_count": 32,
   "metadata": {
    "collapsed": true
   },
   "outputs": [],
   "source": [
    "import numpy as np\n",
    "import pandas as pd\n"
   ]
  },
  {
   "cell_type": "markdown",
   "metadata": {},
   "source": [
    "## Linear Regression"
   ]
  },
  {
   "cell_type": "code",
   "execution_count": 113,
   "metadata": {},
   "outputs": [
    {
     "data": {
      "text/plain": [
       "Index(['RM', 'LSTAT', 'PTRATIO', 'MEDV'], dtype='object')"
      ]
     },
     "execution_count": 113,
     "metadata": {},
     "output_type": "execute_result"
    }
   ],
   "source": [
    "## import data\n",
    "\n",
    "house_prices = pd.read_csv('housing.csv')\n",
    "house_prices.shape\n",
    "house_prices.columns"
   ]
  },
  {
   "cell_type": "code",
   "execution_count": 114,
   "metadata": {},
   "outputs": [],
   "source": [
    "# design matrix\n",
    "\n",
    "X = house_prices[['RM','LSTAT','PTRATIO']]\n",
    "X = np.asarray(X)\n",
    "column_of_ones = np.ones((X.shape[0],1))\n",
    "X= np.append(column_of_ones,X,axis=1)\n",
    "y = house_prices[['MEDV']]\n",
    "y = np.asarray(y)\n",
    "#print(X)\n",
    "\n",
    "\n",
    "# Normalize array so that the\n",
    "\n",
    "\n",
    "X = X - X.mean()\n",
    "\n",
    "X= X/X.max()\n",
    "\n",
    "y = y- y.mean()\n",
    "\n",
    "y = y/y.max()\n"
   ]
  },
  {
   "cell_type": "code",
   "execution_count": 122,
   "metadata": {},
   "outputs": [
    {
     "name": "stdout",
     "output_type": "stream",
     "text": [
      "[[0.]\n",
      " [0.]\n",
      " [0.]\n",
      " [0.]]\n"
     ]
    }
   ],
   "source": [
    "# Initialize theta\n",
    "\n",
    "theta = np.zeros((X.shape[1],1))\n",
    "\n",
    "print(theta)\n",
    "# Number of Gradient Descent Iterations\n",
    "num_iter = 150\n",
    "# learning rate\n",
    "learning_rate =0.01\n",
    "\n",
    "m = X.shape[1]\n",
    "\n",
    "\n",
    "\n",
    "\n",
    "\n",
    "\n",
    "def cost_func(theta,X,y):\n",
    "    \n",
    "    m = X.shape[1]\n",
    "    \n",
    "    j = ((X.dot(theta)-y).transpose()).dot(X.dot(theta)-y)\n",
    "    j = j *(1/(2*m))\n",
    "    \n",
    "    return j\n",
    "\n",
    "\n"
   ]
  },
  {
   "cell_type": "code",
   "execution_count": 123,
   "metadata": {},
   "outputs": [],
   "source": [
    "\n",
    "\n",
    "cost_df = []\n",
    "\n",
    "for i in range(num_iter):\n",
    "    #print(theta)\n",
    "    theta = theta - (learning_rate/m)*(X.transpose()).dot((X.dot(theta)-y))\n",
    "    cost = cost_func(theta,X,y)\n",
    "        \n",
    "    cost_df.append([i,cost])\n",
    "    \n"
   ]
  },
  {
   "cell_type": "code",
   "execution_count": 129,
   "metadata": {},
   "outputs": [
    {
     "data": {
      "image/png": "[encoded data removed]",
      "text/plain": [
       "<matplotlib.figure.Figure at 0x1226c4198>"
      ]
     },
     "metadata": {},
     "output_type": "display_data"
    }
   ],
   "source": [
    "## Plot cost with iterations\n",
    "\n",
    "import matplotlib.pyplot as plt\n",
    "cost_df = np.asarray(cost_df)\n",
    "plt.plot(cost_df[:,0],cost_df[:,1])\n",
    "plt.xlabel('Iterations')\n",
    "plt.ylabel('Cost')\n",
    "plt.show()\n"
   ]
  }
 ],
 "metadata": {
  "kernelspec": {
   "display_name": "Python 3",
   "language": "python",
   "name": "python3"
  },
  "language_info": {
   "codemirror_mode": {
    "name": "ipython",
    "version": 3
   },
   "file_extension": ".py",
   "mimetype": "text/x-python",
   "name": "python",
   "nbconvert_exporter": "python",
   "pygments_lexer": "ipython3",
   "version": "3.6.1"
  }
 },
 "nbformat": 4,
 "nbformat_minor": 2
}
